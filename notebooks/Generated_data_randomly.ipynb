{
 "cells": [
  {
   "cell_type": "code",
   "execution_count": 3,
   "id": "d970d5ac",
   "metadata": {},
   "outputs": [
    {
     "name": "stdout",
     "output_type": "stream",
     "text": [
      "Dataset successfully saved as C:/Users/manos/OneDrive/Desktop/GitHub/IT_Asset_Management.xlsx\n"
     ]
    }
   ],
   "source": [
    "import pandas as pd\n",
    "import random\n",
    "\n",
    "# Define possible values for each column\n",
    "asset_types = [\"Laptop\", \"Server\", \"Software\", \"Cloud\", \"Storage\", \"Networking\", \"Database\"]\n",
    "vendors = [\"Dell\", \"HP\", \"Microsoft\", \"AWS\", \"Google\", \"Cisco\", \"Oracle\", \"IBM\"]\n",
    "statuses = [\"Active\", \"Inactive\", \"Expired\", \"Under Maintenance\"]\n",
    "compliance_status = [\"Compliant\", \"Non-Compliant\"]\n",
    "\n",
    "# Generate random dates for purchase and last used\n",
    "def random_date(start_year=2015, end_year=2024):\n",
    "    \"\"\"Generate a random date within a given year range.\"\"\"\n",
    "    return pd.Timestamp(random.randint(start_year, end_year), random.randint(1, 12), random.randint(1, 28))\n",
    "\n",
    "# Generate sample dataset\n",
    "num_records = 100  \n",
    "data = {\n",
    "    \"Asset_ID\": [f\"A{str(i).zfill(3)}\" for i in range(1, num_records + 1)],\n",
    "    \"Asset_Type\": [random.choice(asset_types) for _ in range(num_records)],\n",
    "    \"Vendor\": [random.choice(vendors) for _ in range(num_records)],\n",
    "    \"Purchase_Date\": [random_date() for _ in range(num_records)],\n",
    "    \"Status\": [random.choice(statuses) for _ in range(num_records)],\n",
    "    \"Purchase_Cost\": [round(random.uniform(500, 10000), 2) for _ in range(num_records)],\n",
    "    \"Maintenance_Cost\": [round(random.uniform(50, 2000), 2) for _ in range(num_records)],\n",
    "    \"License_Fee\": [round(random.uniform(100, 5000), 2) for _ in range(num_records)],\n",
    "    \"Last_Used_Date\": [random_date(2019, 2024) for _ in range(num_records)],\n",
    "    \"Compliance_Status\": [random.choice(compliance_status) for _ in range(num_records)]\n",
    "}\n",
    "\n",
    "# Create DataFrame\n",
    "df_assets = pd.DataFrame(data)\n",
    "\n",
    "# Save dataset to Excel\n",
    "file_name = \"C:/Users/manos/OneDrive/Desktop/GitHub/IT_Asset_Management.xlsx\"\n",
    "df_assets.to_excel(file_name, index=False)\n",
    "\n",
    "print(f\"Dataset successfully saved as {file_name}\")"
   ]
  },
  {
   "cell_type": "code",
   "execution_count": null,
   "id": "2fe338af",
   "metadata": {},
   "outputs": [],
   "source": []
  }
 ],
 "metadata": {
  "kernelspec": {
   "display_name": "Python 3 (ipykernel)",
   "language": "python",
   "name": "python3"
  },
  "language_info": {
   "codemirror_mode": {
    "name": "ipython",
    "version": 3
   },
   "file_extension": ".py",
   "mimetype": "text/x-python",
   "name": "python",
   "nbconvert_exporter": "python",
   "pygments_lexer": "ipython3",
   "version": "3.11.4"
  }
 },
 "nbformat": 4,
 "nbformat_minor": 5
}
